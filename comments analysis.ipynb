{
 "cells": [
  {
   "cell_type": "code",
   "execution_count": 17,
   "metadata": {},
   "outputs": [],
   "source": [
    "import pandas as pd\n",
    "\n",
    "import re\n",
    "import string\n",
    "\n",
    "from textblob import TextBlob\n",
    "\n",
    "import matplotlib.pyplot as plt\n",
    "import seaborn as sns\n",
    "sns.set(rc={'figure.figsize':(11, 4)})\n",
    "%matplotlib inline"
   ]
  },
  {
   "cell_type": "code",
   "execution_count": 11,
   "metadata": {},
   "outputs": [],
   "source": [
    "import warnings\n",
    "warnings.filterwarnings('ignore')"
   ]
  },
  {
   "cell_type": "code",
   "execution_count": 2,
   "metadata": {},
   "outputs": [
    {
     "data": {
      "text/html": [
       "<div>\n",
       "<style scoped>\n",
       "    .dataframe tbody tr th:only-of-type {\n",
       "        vertical-align: middle;\n",
       "    }\n",
       "\n",
       "    .dataframe tbody tr th {\n",
       "        vertical-align: top;\n",
       "    }\n",
       "\n",
       "    .dataframe thead th {\n",
       "        text-align: right;\n",
       "    }\n",
       "</style>\n",
       "<table border=\"1\" class=\"dataframe\">\n",
       "  <thead>\n",
       "    <tr style=\"text-align: right;\">\n",
       "      <th></th>\n",
       "      <th>Subject</th>\n",
       "      <th>From</th>\n",
       "      <th>Affiliation</th>\n",
       "      <th>Date</th>\n",
       "      <th>Comment</th>\n",
       "    </tr>\n",
       "  </thead>\n",
       "  <tbody>\n",
       "    <tr>\n",
       "      <th>0</th>\n",
       "      <td>S7-08-20</td>\n",
       "      <td>NaN</td>\n",
       "      <td>NaN</td>\n",
       "      <td>Jul. 16, 2020</td>\n",
       "      <td>\\nNo. This proposal is a cheat rule aimed at k...</td>\n",
       "    </tr>\n",
       "    <tr>\n",
       "      <th>1</th>\n",
       "      <td>S7-08-20</td>\n",
       "      <td>NaN</td>\n",
       "      <td>NaN</td>\n",
       "      <td>Feb. 2, 2021</td>\n",
       "      <td>\\nI am AGAINST the proposed change of reportin...</td>\n",
       "    </tr>\n",
       "    <tr>\n",
       "      <th>2</th>\n",
       "      <td>File No. S7-08-20</td>\n",
       "      <td>Binoy Biju</td>\n",
       "      <td>Parking Lot Attendant (HEB)</td>\n",
       "      <td>August 11, 2021</td>\n",
       "      <td>I am just a normal citizen making under 15 dol...</td>\n",
       "    </tr>\n",
       "    <tr>\n",
       "      <th>3</th>\n",
       "      <td>File No. S7-08-20</td>\n",
       "      <td>Varun Yadagiri</td>\n",
       "      <td>NaN</td>\n",
       "      <td>March 27, 2021</td>\n",
       "      <td>Please do not implement this rule as I am oppo...</td>\n",
       "    </tr>\n",
       "    <tr>\n",
       "      <th>4</th>\n",
       "      <td>929x Dodd-Frank From</td>\n",
       "      <td>NaN</td>\n",
       "      <td>NaN</td>\n",
       "      <td>Feb. 02, 2021</td>\n",
       "      <td></td>\n",
       "    </tr>\n",
       "  </tbody>\n",
       "</table>\n",
       "</div>"
      ],
      "text/plain": [
       "                Subject             From                  Affiliation  \\\n",
       "0              S7-08-20              NaN                          NaN   \n",
       "1              S7-08-20              NaN                          NaN   \n",
       "2     File No. S7-08-20       Binoy Biju  Parking Lot Attendant (HEB)   \n",
       "3     File No. S7-08-20   Varun Yadagiri                          NaN   \n",
       "4  929x Dodd-Frank From              NaN                          NaN   \n",
       "\n",
       "              Date                                            Comment  \n",
       "0    Jul. 16, 2020  \\nNo. This proposal is a cheat rule aimed at k...  \n",
       "1     Feb. 2, 2021  \\nI am AGAINST the proposed change of reportin...  \n",
       "2  August 11, 2021  I am just a normal citizen making under 15 dol...  \n",
       "3   March 27, 2021  Please do not implement this rule as I am oppo...  \n",
       "4    Feb. 02, 2021                                                     "
      ]
     },
     "execution_count": 2,
     "metadata": {},
     "output_type": "execute_result"
    }
   ],
   "source": [
    "df = pd.read_csv('htm_comments_scrap.csv')\n",
    "df.head()"
   ]
  },
  {
   "cell_type": "code",
   "execution_count": 3,
   "metadata": {},
   "outputs": [
    {
     "data": {
      "text/plain": [
       "(1787, 5)"
      ]
     },
     "execution_count": 3,
     "metadata": {},
     "output_type": "execute_result"
    }
   ],
   "source": [
    "df.shape"
   ]
  },
  {
   "cell_type": "code",
   "execution_count": 4,
   "metadata": {},
   "outputs": [
    {
     "data": {
      "text/plain": [
       "Subject        object\n",
       "From           object\n",
       "Affiliation    object\n",
       "Date           object\n",
       "Comment        object\n",
       "dtype: object"
      ]
     },
     "execution_count": 4,
     "metadata": {},
     "output_type": "execute_result"
    }
   ],
   "source": [
    "df.dtypes"
   ]
  },
  {
   "cell_type": "code",
   "execution_count": 5,
   "metadata": {},
   "outputs": [
    {
     "data": {
      "text/plain": [
       "Subject           2\n",
       "From            223\n",
       "Affiliation    1290\n",
       "Date              2\n",
       "Comment           0\n",
       "dtype: int64"
      ]
     },
     "execution_count": 5,
     "metadata": {},
     "output_type": "execute_result"
    }
   ],
   "source": [
    "df.isna().sum()"
   ]
  },
  {
   "cell_type": "markdown",
   "metadata": {},
   "source": [
    "### Cleaning text data"
   ]
  },
  {
   "cell_type": "code",
   "execution_count": 13,
   "metadata": {},
   "outputs": [],
   "source": [
    "def clean_text(text ): \n",
    "    delete_dict = {sp_character: '' for sp_character in string.punctuation} \n",
    "    delete_dict[' '] = ' ' \n",
    "    table = str.maketrans(delete_dict)\n",
    "    text1 = text.translate(table)\n",
    "    #print('cleaned:'+text1)\n",
    "    textArr= text1.split()\n",
    "    text2 = ' '.join([w for w in textArr if ( not w.isdigit() and  ( not w.isdigit() and len(w)>3))]) \n",
    "    \n",
    "    return text2.lower()"
   ]
  },
  {
   "cell_type": "code",
   "execution_count": 14,
   "metadata": {},
   "outputs": [],
   "source": [
    "df['clean_comments'] = df['Comment'].apply(clean_text)"
   ]
  },
  {
   "cell_type": "code",
   "execution_count": 16,
   "metadata": {},
   "outputs": [
    {
     "data": {
      "text/plain": [
       "0    this proposal cheat rule aimed killing rise at...\n",
       "1    against proposed change reporting chartered ma...\n",
       "2    just normal citizen making under dollars hour ...\n",
       "3                   please implement this rule opposed\n",
       "4                                                     \n",
       "Name: clean_comments, dtype: object"
      ]
     },
     "execution_count": 16,
     "metadata": {},
     "output_type": "execute_result"
    }
   ],
   "source": [
    "df['clean_comments'].head()"
   ]
  },
  {
   "cell_type": "markdown",
   "metadata": {},
   "source": [
    "## Use textblob"
   ]
  },
  {
   "cell_type": "code",
   "execution_count": 20,
   "metadata": {},
   "outputs": [
    {
     "data": {
      "text/plain": [
       "0    0.150000\n",
       "1    0.040476\n",
       "2    0.149893\n",
       "3    0.000000\n",
       "4    0.000000\n",
       "Name: polarity_score, dtype: float64"
      ]
     },
     "execution_count": 20,
     "metadata": {},
     "output_type": "execute_result"
    }
   ],
   "source": [
    "def polarity(text):\n",
    "    return TextBlob(text).sentiment.polarity\n",
    "\n",
    "df['polarity_score']=df['clean_comments'].\\\n",
    "   apply(lambda x : polarity(x))\n",
    "df['polarity_score'].head()"
   ]
  },
  {
   "cell_type": "code",
   "execution_count": 23,
   "metadata": {},
   "outputs": [
    {
     "data": {
      "image/png": "[encoded data removed]",
      "text/plain": [
       "<Figure size 432x288 with 1 Axes>"
      ]
     },
     "metadata": {
      "needs_background": "light"
     },
     "output_type": "display_data"
    }
   ],
   "source": [
    "df['polarity_score'].hist();"
   ]
  },
  {
   "cell_type": "code",
   "execution_count": 42,
   "metadata": {},
   "outputs": [],
   "source": [
    "def sentiment(x):\n",
    "    if x <= 0:\n",
    "        return 'proposed'\n",
    "    else:\n",
    "        return 'oppose'\n",
    "    \n",
    "df['polarity']=df['polarity_score'].\\\n",
    "   map(lambda x: sentiment(x))"
   ]
  },
  {
   "cell_type": "markdown",
   "metadata": {},
   "source": [
    "## number of those who oppose vs those who Proposed"
   ]
  },
  {
   "cell_type": "code",
   "execution_count": 26,
   "metadata": {},
   "outputs": [
    {
     "data": {
      "text/plain": [
       "oppose      937\n",
       "proposed    850\n",
       "Name: polarity, dtype: int64"
      ]
     },
     "execution_count": 26,
     "metadata": {},
     "output_type": "execute_result"
    }
   ],
   "source": [
    "df['polarity'].value_counts()"
   ]
  },
  {
   "cell_type": "code",
   "execution_count": 27,
   "metadata": {},
   "outputs": [
    {
     "data": {
      "image/png": "[encoded data removed]",
      "text/plain": [
       "<Figure size 432x288 with 1 Axes>"
      ]
     },
     "metadata": {
      "needs_background": "light"
     },
     "output_type": "display_data"
    }
   ],
   "source": [
    "plt.bar(df.polarity.value_counts().index,\n",
    "        df.polarity.value_counts())\n",
    "plt.show()"
   ]
  },
  {
   "cell_type": "markdown",
   "metadata": {},
   "source": [
    "### Descriptive analytics of the length of each comment letter"
   ]
  },
  {
   "cell_type": "code",
   "execution_count": 6,
   "metadata": {},
   "outputs": [],
   "source": [
    "df['text_length'] = df['Comment'].str.len()"
   ]
  },
  {
   "cell_type": "code",
   "execution_count": 8,
   "metadata": {},
   "outputs": [
    {
     "data": {
      "text/plain": [
       "count     1787.000000\n",
       "mean       303.160045\n",
       "std        725.564298\n",
       "min          1.000000\n",
       "25%         57.000000\n",
       "50%        194.000000\n",
       "75%        334.000000\n",
       "max      26041.000000\n",
       "Name: text_length, dtype: float64"
      ]
     },
     "execution_count": 8,
     "metadata": {},
     "output_type": "execute_result"
    }
   ],
   "source": [
    "df['text_length'].describe()"
   ]
  },
  {
   "cell_type": "code",
   "execution_count": null,
   "metadata": {},
   "outputs": [],
   "source": []
  },
  {
   "cell_type": "code",
   "execution_count": 30,
   "metadata": {},
   "outputs": [],
   "source": [
    "def find_number(text):\n",
    "    num = re.findall(r'[0-9]+',text)\n",
    "    return \" \".join(num)\n",
    "\n",
    "df['number']=df['Comment'].apply(lambda x: find_number(x))"
   ]
  },
  {
   "cell_type": "code",
   "execution_count": 32,
   "metadata": {},
   "outputs": [
    {
     "data": {
      "text/plain": [
       "0                 \n",
       "1    13 929 929 15\n",
       "2     15 13 13 3 5\n",
       "3                 \n",
       "4                 \n",
       "Name: number, dtype: object"
      ]
     },
     "execution_count": 32,
     "metadata": {},
     "output_type": "execute_result"
    }
   ],
   "source": [
    "df['number'].head()"
   ]
  },
  {
   "cell_type": "code",
   "execution_count": 59,
   "metadata": {},
   "outputs": [
    {
     "data": {
      "text/plain": [
       "'retail investorspeculator plead that withhold passing this rule harms individuals including main street investors have much information through this regulation would strip more public information available give funds investors more advantages cannot stress impairing this although this hands implore consider messages many others will harmed this bill passed please protect publics interest ensure that least have change against firms their algorithms machine learning technical experts'"
      ]
     },
     "execution_count": 59,
     "metadata": {},
     "output_type": "execute_result"
    }
   ],
   "source": [
    "df['clean_comments'][10]"
   ]
  },
  {
   "cell_type": "code",
   "execution_count": null,
   "metadata": {},
   "outputs": [],
   "source": [
    "states = ['AK', 'AL', 'AR', 'AZ', 'CA', 'CO', 'CT', 'DC', 'DE', 'FL', 'GA',\n",
    "           'HI', 'IA', 'ID', 'IL', 'IN', 'KS', 'KY', 'LA', 'MA', 'MD', 'ME',\n",
    "           'MI', 'MN', 'MO', 'MS', 'MT', 'NC', 'ND', 'NE', 'NH', 'NJ', 'NM',\n",
    "           'NV', 'NY', 'OH', 'OK', 'OR', 'PA', 'RI', 'SC', 'SD', 'TN', 'TX',\n",
    "           'UT', 'VA', 'VT', 'WA', 'WI', 'WV', 'WY']\n",
    "\n"
   ]
  },
  {
   "cell_type": "code",
   "execution_count": null,
   "metadata": {},
   "outputs": [],
   "source": [
    "df[]"
   ]
  },
  {
   "cell_type": "code",
   "execution_count": null,
   "metadata": {},
   "outputs": [],
   "source": []
  },
  {
   "cell_type": "markdown",
   "metadata": {},
   "source": [
    "### Prepare data visualizations of the results"
   ]
  },
  {
   "cell_type": "code",
   "execution_count": 46,
   "metadata": {},
   "outputs": [
    {
     "data": {
      "image/png": "[encoded data removed]",
      "text/plain": [
       "<Figure size 432x288 with 1 Axes>"
      ]
     },
     "metadata": {},
     "output_type": "display_data"
    }
   ],
   "source": [
    "#pie chart\n",
    "polarity_counts = df['polarity'].value_counts()\n",
    "polarity_counts.plot(kind='pie')\n",
    "plt.show()"
   ]
  },
  {
   "cell_type": "code",
   "execution_count": 44,
   "metadata": {},
   "outputs": [
    {
     "data": {
      "image/png": "[encoded data removed]",
      "text/plain": [
       "<Figure size 432x288 with 1 Axes>"
      ]
     },
     "metadata": {
      "needs_background": "light"
     },
     "output_type": "display_data"
    }
   ],
   "source": [
    "#Barcharts\n",
    "plt.bar(df.polarity.value_counts().index,\n",
    "        df.polarity.value_counts())\n",
    "plt.show()"
   ]
  },
  {
   "cell_type": "code",
   "execution_count": 48,
   "metadata": {},
   "outputs": [
    {
     "data": {
      "text/plain": [
       "'Jul. 16, 2020'"
      ]
     },
     "execution_count": 48,
     "metadata": {},
     "output_type": "execute_result"
    }
   ],
   "source": [
    "df['Date'][0]"
   ]
  },
  {
   "cell_type": "markdown",
   "metadata": {},
   "source": [
    "### Time series based on date of submission"
   ]
  },
  {
   "cell_type": "code",
   "execution_count": 49,
   "metadata": {},
   "outputs": [],
   "source": [
    "df['date'] = pd.to_datetime(df['Date'])"
   ]
  },
  {
   "cell_type": "code",
   "execution_count": 51,
   "metadata": {},
   "outputs": [
    {
     "data": {
      "text/plain": [
       "0   2020-07-16\n",
       "1   2021-02-02\n",
       "2   2021-08-11\n",
       "3   2021-03-27\n",
       "4   2021-02-02\n",
       "Name: date, dtype: datetime64[ns]"
      ]
     },
     "execution_count": 51,
     "metadata": {},
     "output_type": "execute_result"
    }
   ],
   "source": [
    "df['date'].head()"
   ]
  },
  {
   "cell_type": "code",
   "execution_count": 52,
   "metadata": {},
   "outputs": [
    {
     "data": {
      "text/html": [
       "<div>\n",
       "<style scoped>\n",
       "    .dataframe tbody tr th:only-of-type {\n",
       "        vertical-align: middle;\n",
       "    }\n",
       "\n",
       "    .dataframe tbody tr th {\n",
       "        vertical-align: top;\n",
       "    }\n",
       "\n",
       "    .dataframe thead th {\n",
       "        text-align: right;\n",
       "    }\n",
       "</style>\n",
       "<table border=\"1\" class=\"dataframe\">\n",
       "  <thead>\n",
       "    <tr style=\"text-align: right;\">\n",
       "      <th></th>\n",
       "      <th>Subject</th>\n",
       "      <th>From</th>\n",
       "      <th>Affiliation</th>\n",
       "      <th>Date</th>\n",
       "      <th>Comment</th>\n",
       "      <th>text_length</th>\n",
       "      <th>clean_comments</th>\n",
       "      <th>polarity_score</th>\n",
       "      <th>polarity</th>\n",
       "      <th>number</th>\n",
       "      <th>date</th>\n",
       "    </tr>\n",
       "  </thead>\n",
       "  <tbody>\n",
       "    <tr>\n",
       "      <th>0</th>\n",
       "      <td>S7-08-20</td>\n",
       "      <td>NaN</td>\n",
       "      <td>NaN</td>\n",
       "      <td>Jul. 16, 2020</td>\n",
       "      <td>\\nNo. This proposal is a cheat rule aimed at k...</td>\n",
       "      <td>269</td>\n",
       "      <td>this proposal cheat rule aimed killing rise at...</td>\n",
       "      <td>0.150000</td>\n",
       "      <td>oppose</td>\n",
       "      <td></td>\n",
       "      <td>2020-07-16</td>\n",
       "    </tr>\n",
       "    <tr>\n",
       "      <th>984</th>\n",
       "      <td>Penny stock disclosure From</td>\n",
       "      <td>NaN</td>\n",
       "      <td>NaN</td>\n",
       "      <td>Jul. 16, 2020</td>\n",
       "      <td></td>\n",
       "      <td>1</td>\n",
       "      <td></td>\n",
       "      <td>0.000000</td>\n",
       "      <td>proposed</td>\n",
       "      <td></td>\n",
       "      <td>2020-07-16</td>\n",
       "    </tr>\n",
       "    <tr>\n",
       "      <th>985</th>\n",
       "      <td>File No. S7-08-20</td>\n",
       "      <td>Tim m Siegmund</td>\n",
       "      <td>NaN</td>\n",
       "      <td>July 16, 2020</td>\n",
       "      <td>Please don't allow this rule that benefits the...</td>\n",
       "      <td>401</td>\n",
       "      <td>please dont allow this rule that benefits rich...</td>\n",
       "      <td>0.300000</td>\n",
       "      <td>oppose</td>\n",
       "      <td></td>\n",
       "      <td>2020-07-16</td>\n",
       "    </tr>\n",
       "    <tr>\n",
       "      <th>986</th>\n",
       "      <td>File No. S7-08-20</td>\n",
       "      <td>Mark Makar</td>\n",
       "      <td>NaN</td>\n",
       "      <td>July 16, 2020</td>\n",
       "      <td>This will cause transparency issues for retail...</td>\n",
       "      <td>102</td>\n",
       "      <td>this will cause transparency issues retail inv...</td>\n",
       "      <td>0.000000</td>\n",
       "      <td>proposed</td>\n",
       "      <td></td>\n",
       "      <td>2020-07-16</td>\n",
       "    </tr>\n",
       "    <tr>\n",
       "      <th>987</th>\n",
       "      <td>File No. S7-08-20</td>\n",
       "      <td>Gene Dolgin</td>\n",
       "      <td>NaN</td>\n",
       "      <td>July 16, 2020</td>\n",
       "      <td>As a retail investor, I believe it is extremel...</td>\n",
       "      <td>480</td>\n",
       "      <td>retail investor believe extremely important fi...</td>\n",
       "      <td>0.190312</td>\n",
       "      <td>oppose</td>\n",
       "      <td>13</td>\n",
       "      <td>2020-07-16</td>\n",
       "    </tr>\n",
       "  </tbody>\n",
       "</table>\n",
       "</div>"
      ],
      "text/plain": [
       "                         Subject             From Affiliation           Date  \\\n",
       "0                       S7-08-20              NaN         NaN  Jul. 16, 2020   \n",
       "984  Penny stock disclosure From              NaN         NaN  Jul. 16, 2020   \n",
       "985            File No. S7-08-20  Tim m Siegmund          NaN  July 16, 2020   \n",
       "986            File No. S7-08-20       Mark Makar         NaN  July 16, 2020   \n",
       "987            File No. S7-08-20      Gene Dolgin         NaN  July 16, 2020   \n",
       "\n",
       "                                               Comment  text_length  \\\n",
       "0    \\nNo. This proposal is a cheat rule aimed at k...          269   \n",
       "984                                                               1   \n",
       "985  Please don't allow this rule that benefits the...          401   \n",
       "986  This will cause transparency issues for retail...          102   \n",
       "987  As a retail investor, I believe it is extremel...          480   \n",
       "\n",
       "                                        clean_comments  polarity_score  \\\n",
       "0    this proposal cheat rule aimed killing rise at...        0.150000   \n",
       "984                                                           0.000000   \n",
       "985  please dont allow this rule that benefits rich...        0.300000   \n",
       "986  this will cause transparency issues retail inv...        0.000000   \n",
       "987  retail investor believe extremely important fi...        0.190312   \n",
       "\n",
       "     polarity number       date  \n",
       "0      oppose        2020-07-16  \n",
       "984  proposed        2020-07-16  \n",
       "985    oppose        2020-07-16  \n",
       "986  proposed        2020-07-16  \n",
       "987    oppose     13 2020-07-16  "
      ]
     },
     "execution_count": 52,
     "metadata": {},
     "output_type": "execute_result"
    }
   ],
   "source": [
    "sorted_df = df.sort_values(by=['date'])\n",
    "sorted_df.head()"
   ]
  },
  {
   "cell_type": "code",
   "execution_count": 58,
   "metadata": {},
   "outputs": [
    {
     "data": {
      "image/png": "[encoded data removed]",
      "text/plain": [
       "<Figure size 1080x288 with 1 Axes>"
      ]
     },
     "metadata": {
      "needs_background": "light"
     },
     "output_type": "display_data"
    }
   ],
   "source": [
    "plt.figure(figsize = (15,4))\n",
    "sns.lineplot(x='date', y='text_length', hue='polarity', data=sorted_df)\n",
    "plt.show()"
   ]
  },
  {
   "cell_type": "code",
   "execution_count": null,
   "metadata": {},
   "outputs": [],
   "source": []
  }
 ],
 "metadata": {
  "kernelspec": {
   "display_name": "Python 3 (ipykernel)",
   "language": "python",
   "name": "python3"
  },
  "language_info": {
   "codemirror_mode": {
    "name": "ipython",
    "version": 3
   },
   "file_extension": ".py",
   "mimetype": "text/x-python",
   "name": "python",
   "nbconvert_exporter": "python",
   "pygments_lexer": "ipython3",
   "version": "3.7.4"
  }
 },
 "nbformat": 4,
 "nbformat_minor": 4
}
