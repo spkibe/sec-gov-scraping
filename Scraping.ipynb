{
 "cells": [
  {
   "cell_type": "code",
   "execution_count": 1,
   "metadata": {},
   "outputs": [],
   "source": [
    "#import the liberary\n",
    "import requests\n",
    "from time import sleep \n",
    "import re\n",
    "import pandas as pd\n",
    "import numpy as np\n",
    "from bs4 import BeautifulSoup"
   ]
  },
  {
   "cell_type": "code",
   "execution_count": 2,
   "metadata": {},
   "outputs": [],
   "source": [
    "url = \"https://www.sec.gov/comments/s7-08-20/s70820.htm\""
   ]
  },
  {
   "cell_type": "code",
   "execution_count": 3,
   "metadata": {},
   "outputs": [],
   "source": [
    "response = requests.get(url)"
   ]
  },
  {
   "cell_type": "code",
   "execution_count": 4,
   "metadata": {},
   "outputs": [],
   "source": [
    "#soup = BeautifulSoup(response).text\n",
    "#print(soup.prettify())"
   ]
  },
  {
   "cell_type": "code",
   "execution_count": 5,
   "metadata": {},
   "outputs": [],
   "source": [
    "soup = BeautifulSoup(requests.get(url).text, 'lxml')"
   ]
  },
  {
   "cell_type": "code",
   "execution_count": 6,
   "metadata": {},
   "outputs": [],
   "source": [
    "#print(soup.prettify())"
   ]
  },
  {
   "cell_type": "code",
   "execution_count": 7,
   "metadata": {},
   "outputs": [
    {
     "data": {
      "text/plain": [
       "<td class=\"nobreak\">Aug. 11, 2021</td>"
      ]
     },
     "execution_count": 7,
     "metadata": {},
     "output_type": "execute_result"
    }
   ],
   "source": [
    "date = soup.find('td', class_= \"nobreak\")\n",
    "date"
   ]
  },
  {
   "cell_type": "code",
   "execution_count": 8,
   "metadata": {},
   "outputs": [],
   "source": [
    "link = soup.find('tr', 'td')"
   ]
  },
  {
   "cell_type": "code",
   "execution_count": 9,
   "metadata": {},
   "outputs": [],
   "source": [
    "# find all the anchor tags with \"href\" \n",
    "# attribute starting with \"/comments/\"\n",
    "links = []\n",
    "for link in soup.find_all('a', \n",
    "                          attrs={'href': re.compile(\"^/comments/\")}):\n",
    "    # display the actual urls\n",
    "    #print(link.get('href'))\n",
    "    link = link.get('href')\n",
    "    link = \"https://www.sec.gov\" + link\n",
    "    #print(link)\n",
    "    links.append(link)"
   ]
  },
  {
   "cell_type": "code",
   "execution_count": 10,
   "metadata": {},
   "outputs": [
    {
     "data": {
      "text/plain": [
       "'https://www.sec.gov/comments/s7-08-20/s70820-typeb.htm'"
      ]
     },
     "execution_count": 10,
     "metadata": {},
     "output_type": "execute_result"
    }
   ],
   "source": [
    "links[1]"
   ]
  },
  {
   "cell_type": "code",
   "execution_count": 11,
   "metadata": {},
   "outputs": [
    {
     "data": {
      "text/plain": [
       "'A: 86'"
      ]
     },
     "execution_count": 11,
     "metadata": {},
     "output_type": "execute_result"
    }
   ],
   "source": [
    "name = soup.find('a', attrs={'href': re.compile(\"^/comments/\")})\n",
    "name.text"
   ]
  },
  {
   "cell_type": "code",
   "execution_count": 12,
   "metadata": {},
   "outputs": [],
   "source": [
    "names = []\n",
    "for link in soup.find_all('a', \n",
    "                          attrs={'href': re.compile(\"^/comments/\")}):\n",
    "    # display the actual names\n",
    "    name = link.text\n",
    "    #print(name)\n",
    "    names.append(name)"
   ]
  },
  {
   "cell_type": "code",
   "execution_count": 13,
   "metadata": {},
   "outputs": [],
   "source": [
    "dictionary = {'link':links, 'name':names}"
   ]
  },
  {
   "cell_type": "code",
   "execution_count": 14,
   "metadata": {},
   "outputs": [
    {
     "data": {
      "text/html": [
       "<div>\n",
       "<style scoped>\n",
       "    .dataframe tbody tr th:only-of-type {\n",
       "        vertical-align: middle;\n",
       "    }\n",
       "\n",
       "    .dataframe tbody tr th {\n",
       "        vertical-align: top;\n",
       "    }\n",
       "\n",
       "    .dataframe thead th {\n",
       "        text-align: right;\n",
       "    }\n",
       "</style>\n",
       "<table border=\"1\" class=\"dataframe\">\n",
       "  <thead>\n",
       "    <tr style=\"text-align: right;\">\n",
       "      <th></th>\n",
       "      <th>link</th>\n",
       "      <th>name</th>\n",
       "    </tr>\n",
       "  </thead>\n",
       "  <tbody>\n",
       "    <tr>\n",
       "      <th>0</th>\n",
       "      <td>https://www.sec.gov/comments/s7-08-20/s70820-t...</td>\n",
       "      <td>A: 86</td>\n",
       "    </tr>\n",
       "    <tr>\n",
       "      <th>1</th>\n",
       "      <td>https://www.sec.gov/comments/s7-08-20/s70820-t...</td>\n",
       "      <td>B: 3</td>\n",
       "    </tr>\n",
       "    <tr>\n",
       "      <th>2</th>\n",
       "      <td>https://www.sec.gov/comments/s7-08-20/s70820-9...</td>\n",
       "      <td>Binoy Biju, Parking Lot Attendant (HEB)</td>\n",
       "    </tr>\n",
       "    <tr>\n",
       "      <th>3</th>\n",
       "      <td>https://www.sec.gov/comments/s7-08-20/s70820-8...</td>\n",
       "      <td>Varun Yadagiri</td>\n",
       "    </tr>\n",
       "    <tr>\n",
       "      <th>4</th>\n",
       "      <td>https://www.sec.gov/comments/s7-08-20/s70820-2...</td>\n",
       "      <td>Lynne Thorp</td>\n",
       "    </tr>\n",
       "  </tbody>\n",
       "</table>\n",
       "</div>"
      ],
      "text/plain": [
       "                                                link  \\\n",
       "0  https://www.sec.gov/comments/s7-08-20/s70820-t...   \n",
       "1  https://www.sec.gov/comments/s7-08-20/s70820-t...   \n",
       "2  https://www.sec.gov/comments/s7-08-20/s70820-9...   \n",
       "3  https://www.sec.gov/comments/s7-08-20/s70820-8...   \n",
       "4  https://www.sec.gov/comments/s7-08-20/s70820-2...   \n",
       "\n",
       "                                      name  \n",
       "0                                    A: 86  \n",
       "1                                     B: 3  \n",
       "2  Binoy Biju, Parking Lot Attendant (HEB)  \n",
       "3                           Varun Yadagiri  \n",
       "4                              Lynne Thorp  "
      ]
     },
     "execution_count": 14,
     "metadata": {},
     "output_type": "execute_result"
    }
   ],
   "source": [
    "import pandas as pd\n",
    "df = pd.DataFrame(dictionary)\n",
    "df.head()"
   ]
  },
  {
   "cell_type": "code",
   "execution_count": 15,
   "metadata": {},
   "outputs": [],
   "source": [
    "df['extension'] = df['link'].str.split('.', expand=True)[3]"
   ]
  },
  {
   "cell_type": "code",
   "execution_count": 16,
   "metadata": {},
   "outputs": [
    {
     "data": {
      "text/html": [
       "<div>\n",
       "<style scoped>\n",
       "    .dataframe tbody tr th:only-of-type {\n",
       "        vertical-align: middle;\n",
       "    }\n",
       "\n",
       "    .dataframe tbody tr th {\n",
       "        vertical-align: top;\n",
       "    }\n",
       "\n",
       "    .dataframe thead th {\n",
       "        text-align: right;\n",
       "    }\n",
       "</style>\n",
       "<table border=\"1\" class=\"dataframe\">\n",
       "  <thead>\n",
       "    <tr style=\"text-align: right;\">\n",
       "      <th></th>\n",
       "      <th>link</th>\n",
       "      <th>name</th>\n",
       "      <th>extension</th>\n",
       "    </tr>\n",
       "  </thead>\n",
       "  <tbody>\n",
       "    <tr>\n",
       "      <th>0</th>\n",
       "      <td>https://www.sec.gov/comments/s7-08-20/s70820-t...</td>\n",
       "      <td>A: 86</td>\n",
       "      <td>htm</td>\n",
       "    </tr>\n",
       "    <tr>\n",
       "      <th>1</th>\n",
       "      <td>https://www.sec.gov/comments/s7-08-20/s70820-t...</td>\n",
       "      <td>B: 3</td>\n",
       "      <td>htm</td>\n",
       "    </tr>\n",
       "    <tr>\n",
       "      <th>2</th>\n",
       "      <td>https://www.sec.gov/comments/s7-08-20/s70820-9...</td>\n",
       "      <td>Binoy Biju, Parking Lot Attendant (HEB)</td>\n",
       "      <td>htm</td>\n",
       "    </tr>\n",
       "    <tr>\n",
       "      <th>3</th>\n",
       "      <td>https://www.sec.gov/comments/s7-08-20/s70820-8...</td>\n",
       "      <td>Varun Yadagiri</td>\n",
       "      <td>htm</td>\n",
       "    </tr>\n",
       "    <tr>\n",
       "      <th>4</th>\n",
       "      <td>https://www.sec.gov/comments/s7-08-20/s70820-2...</td>\n",
       "      <td>Lynne Thorp</td>\n",
       "      <td>htm</td>\n",
       "    </tr>\n",
       "  </tbody>\n",
       "</table>\n",
       "</div>"
      ],
      "text/plain": [
       "                                                link  \\\n",
       "0  https://www.sec.gov/comments/s7-08-20/s70820-t...   \n",
       "1  https://www.sec.gov/comments/s7-08-20/s70820-t...   \n",
       "2  https://www.sec.gov/comments/s7-08-20/s70820-9...   \n",
       "3  https://www.sec.gov/comments/s7-08-20/s70820-8...   \n",
       "4  https://www.sec.gov/comments/s7-08-20/s70820-2...   \n",
       "\n",
       "                                      name extension  \n",
       "0                                    A: 86       htm  \n",
       "1                                     B: 3       htm  \n",
       "2  Binoy Biju, Parking Lot Attendant (HEB)       htm  \n",
       "3                           Varun Yadagiri       htm  \n",
       "4                              Lynne Thorp       htm  "
      ]
     },
     "execution_count": 16,
     "metadata": {},
     "output_type": "execute_result"
    }
   ],
   "source": [
    "df.head()"
   ]
  },
  {
   "cell_type": "code",
   "execution_count": 17,
   "metadata": {},
   "outputs": [
    {
     "data": {
      "text/plain": [
       "htm    2059\n",
       "pdf     260\n",
       "Name: extension, dtype: int64"
      ]
     },
     "execution_count": 17,
     "metadata": {},
     "output_type": "execute_result"
    }
   ],
   "source": [
    "df['extension'].value_counts()"
   ]
  },
  {
   "cell_type": "code",
   "execution_count": 75,
   "metadata": {},
   "outputs": [],
   "source": [
    "htm = df[df['extension'] == \"htm\"]\n",
    "pdf = df[df['extension'] == \"pdf\"]"
   ]
  },
  {
   "cell_type": "code",
   "execution_count": 64,
   "metadata": {},
   "outputs": [
    {
     "name": "stdout",
     "output_type": "stream",
     "text": [
      "2059\n",
      "260\n"
     ]
    }
   ],
   "source": [
    "print(len(htm))\n",
    "print(len(pdf))"
   ]
  },
  {
   "cell_type": "code",
   "execution_count": 20,
   "metadata": {},
   "outputs": [
    {
     "data": {
      "text/html": [
       "<div>\n",
       "<style scoped>\n",
       "    .dataframe tbody tr th:only-of-type {\n",
       "        vertical-align: middle;\n",
       "    }\n",
       "\n",
       "    .dataframe tbody tr th {\n",
       "        vertical-align: top;\n",
       "    }\n",
       "\n",
       "    .dataframe thead th {\n",
       "        text-align: right;\n",
       "    }\n",
       "</style>\n",
       "<table border=\"1\" class=\"dataframe\">\n",
       "  <thead>\n",
       "    <tr style=\"text-align: right;\">\n",
       "      <th></th>\n",
       "      <th>link</th>\n",
       "      <th>name</th>\n",
       "    </tr>\n",
       "  </thead>\n",
       "  <tbody>\n",
       "    <tr>\n",
       "      <th>0</th>\n",
       "      <td>https://www.sec.gov/comments/s7-08-20/s70820-t...</td>\n",
       "      <td>A: 86</td>\n",
       "    </tr>\n",
       "    <tr>\n",
       "      <th>1</th>\n",
       "      <td>https://www.sec.gov/comments/s7-08-20/s70820-t...</td>\n",
       "      <td>B: 3</td>\n",
       "    </tr>\n",
       "    <tr>\n",
       "      <th>2</th>\n",
       "      <td>https://www.sec.gov/comments/s7-08-20/s70820-9...</td>\n",
       "      <td>Binoy Biju, Parking Lot Attendant (HEB)</td>\n",
       "    </tr>\n",
       "    <tr>\n",
       "      <th>3</th>\n",
       "      <td>https://www.sec.gov/comments/s7-08-20/s70820-8...</td>\n",
       "      <td>Varun Yadagiri</td>\n",
       "    </tr>\n",
       "    <tr>\n",
       "      <th>4</th>\n",
       "      <td>https://www.sec.gov/comments/s7-08-20/s70820-2...</td>\n",
       "      <td>Lynne Thorp</td>\n",
       "    </tr>\n",
       "  </tbody>\n",
       "</table>\n",
       "</div>"
      ],
      "text/plain": [
       "                                                link  \\\n",
       "0  https://www.sec.gov/comments/s7-08-20/s70820-t...   \n",
       "1  https://www.sec.gov/comments/s7-08-20/s70820-t...   \n",
       "2  https://www.sec.gov/comments/s7-08-20/s70820-9...   \n",
       "3  https://www.sec.gov/comments/s7-08-20/s70820-8...   \n",
       "4  https://www.sec.gov/comments/s7-08-20/s70820-2...   \n",
       "\n",
       "                                      name  \n",
       "0                                    A: 86  \n",
       "1                                     B: 3  \n",
       "2  Binoy Biju, Parking Lot Attendant (HEB)  \n",
       "3                           Varun Yadagiri  \n",
       "4                              Lynne Thorp  "
      ]
     },
     "execution_count": 20,
     "metadata": {},
     "output_type": "execute_result"
    }
   ],
   "source": [
    "htm = htm[['link', 'name']]\n",
    "#htm.set_index('link', inplace=True)\n",
    "htm.head()"
   ]
  },
  {
   "cell_type": "code",
   "execution_count": 21,
   "metadata": {},
   "outputs": [],
   "source": [
    "htm.to_csv(\"htm.csv\", index=False)"
   ]
  },
  {
   "cell_type": "code",
   "execution_count": 65,
   "metadata": {},
   "outputs": [
    {
     "data": {
      "text/html": [
       "<div>\n",
       "<style scoped>\n",
       "    .dataframe tbody tr th:only-of-type {\n",
       "        vertical-align: middle;\n",
       "    }\n",
       "\n",
       "    .dataframe tbody tr th {\n",
       "        vertical-align: top;\n",
       "    }\n",
       "\n",
       "    .dataframe thead th {\n",
       "        text-align: right;\n",
       "    }\n",
       "</style>\n",
       "<table border=\"1\" class=\"dataframe\">\n",
       "  <thead>\n",
       "    <tr style=\"text-align: right;\">\n",
       "      <th></th>\n",
       "      <th>link</th>\n",
       "      <th>name</th>\n",
       "    </tr>\n",
       "  </thead>\n",
       "  <tbody>\n",
       "    <tr>\n",
       "      <th>7</th>\n",
       "      <td>https://www.sec.gov/comments/s7-08-20/s70820-8...</td>\n",
       "      <td>David J. Smetana, Chief Financial Officer, Mac...</td>\n",
       "    </tr>\n",
       "    <tr>\n",
       "      <th>8</th>\n",
       "      <td>https://www.sec.gov/comments/s7-08-20/s70820-8...</td>\n",
       "      <td>Michael Stubblefield, President and Chief Exec...</td>\n",
       "    </tr>\n",
       "    <tr>\n",
       "      <th>17</th>\n",
       "      <td>https://www.sec.gov/comments/s7-08-20/s70820-7...</td>\n",
       "      <td>John S. Hess, Jr., EVP, Deputy General Counsel...</td>\n",
       "    </tr>\n",
       "    <tr>\n",
       "      <th>20</th>\n",
       "      <td>https://www.sec.gov/comments/s7-08-20/s70820-7...</td>\n",
       "      <td>Stephen Deane, Sr. Director, Capital Markets P...</td>\n",
       "    </tr>\n",
       "    <tr>\n",
       "      <th>22</th>\n",
       "      <td>https://www.sec.gov/comments/s7-08-20/s70820-7...</td>\n",
       "      <td>Lev Bagramian, Senior Securities Policy Adviso...</td>\n",
       "    </tr>\n",
       "  </tbody>\n",
       "</table>\n",
       "</div>"
      ],
      "text/plain": [
       "                                                 link  \\\n",
       "7   https://www.sec.gov/comments/s7-08-20/s70820-8...   \n",
       "8   https://www.sec.gov/comments/s7-08-20/s70820-8...   \n",
       "17  https://www.sec.gov/comments/s7-08-20/s70820-7...   \n",
       "20  https://www.sec.gov/comments/s7-08-20/s70820-7...   \n",
       "22  https://www.sec.gov/comments/s7-08-20/s70820-7...   \n",
       "\n",
       "                                                 name  \n",
       "7   David J. Smetana, Chief Financial Officer, Mac...  \n",
       "8   Michael Stubblefield, President and Chief Exec...  \n",
       "17  John S. Hess, Jr., EVP, Deputy General Counsel...  \n",
       "20  Stephen Deane, Sr. Director, Capital Markets P...  \n",
       "22  Lev Bagramian, Senior Securities Policy Adviso...  "
      ]
     },
     "execution_count": 65,
     "metadata": {},
     "output_type": "execute_result"
    }
   ],
   "source": [
    "pdf = pdf[['link', 'name']]\n",
    "#pdf.set_index('link', inplace=True)\n",
    "pdf.head()"
   ]
  },
  {
   "cell_type": "code",
   "execution_count": 23,
   "metadata": {},
   "outputs": [],
   "source": [
    "pdf.to_csv('pdf.csv', index=False)"
   ]
  },
  {
   "cell_type": "code",
   "execution_count": 24,
   "metadata": {},
   "outputs": [
    {
     "data": {
      "text/plain": [
       "<!DOCTYPE html>\n",
       "<html lang=\"en\">\n",
       "<head>\n",
       "<title>Comments of T. Boshard on S7-08-20</title>\n",
       "<meta content=\"width=device-width, initial-scale=1\" name=\"viewport\"/>\n",
       "<meta charset=\"utf-8\"/>\n",
       "<link href=\"/css/comment-letter-responsive.css\" rel=\"stylesheet\"/>\n",
       "</head>\n",
       "<body>\n",
       "<h2>Subject: File No. S7-08-20<br/>\n",
       "From: Tyler Boshard</h2>\n",
       "<p class=\"right\">\n",
       "July 16, 2020</p>\n",
       "<p>I find this proposal reduces critical transparency to a fair market and should be rejected for the good of the people. </p>\n",
       "</body>\n",
       "</html>"
      ]
     },
     "execution_count": 24,
     "metadata": {},
     "output_type": "execute_result"
    }
   ],
   "source": [
    "url = \"https://www.sec.gov/comments/s7-08-20/s70820-7432575-220107.htm\"\n",
    "response = BeautifulSoup(requests.get(url).text, 'lxml')\n",
    "response"
   ]
  },
  {
   "cell_type": "code",
   "execution_count": 25,
   "metadata": {},
   "outputs": [
    {
     "name": "stdout",
     "output_type": "stream",
     "text": [
      "Subject: File No. S7-08-20\n",
      "From: Tyler Boshard\n"
     ]
    },
    {
     "data": {
      "text/plain": [
       "['Subject', 'File No. S7-08-20', 'From', 'Tyler Boshard']"
      ]
     },
     "execution_count": 25,
     "metadata": {},
     "output_type": "execute_result"
    }
   ],
   "source": [
    "text = response.h2.text\n",
    "print(text)\n",
    "text = (re.split(': |, |\\*|\\n', text))\n",
    "text"
   ]
  },
  {
   "cell_type": "code",
   "execution_count": 26,
   "metadata": {},
   "outputs": [
    {
     "name": "stdout",
     "output_type": "stream",
     "text": [
      "July 16, 2020\n"
     ]
    }
   ],
   "source": [
    "date = response.find(\"p\", class_= \"right\")\n",
    "try:\n",
    "    print(date.text.replace('\\n', ''))\n",
    "except Exception:\n",
    "    pass"
   ]
  },
  {
   "cell_type": "code",
   "execution_count": 27,
   "metadata": {},
   "outputs": [
    {
     "data": {
      "text/plain": [
       "'I find this proposal reduces critical transparency to a fair market and should be rejected for the good of the people. '"
      ]
     },
     "execution_count": 27,
     "metadata": {},
     "output_type": "execute_result"
    }
   ],
   "source": [
    "response.select('p')[1].text"
   ]
  },
  {
   "cell_type": "code",
   "execution_count": 28,
   "metadata": {},
   "outputs": [
    {
     "data": {
      "text/plain": [
       "'Subject: File No. S7-08-20\\nFrom: Tyler Boshard'"
      ]
     },
     "execution_count": 28,
     "metadata": {},
     "output_type": "execute_result"
    }
   ],
   "source": [
    "response.h2.text.split(':|\\n')[0]"
   ]
  },
  {
   "cell_type": "code",
   "execution_count": 29,
   "metadata": {},
   "outputs": [
    {
     "name": "stdout",
     "output_type": "stream",
     "text": [
      "['Subject', 'File No. S7-08-20', 'From', 'Tyler Boshard']\n"
     ]
    }
   ],
   "source": [
    "import re\n",
    "\n",
    "str = 'Subject: File No. S7-08-20\\nFrom: Tyler Boshard'\n",
    "\n",
    "print(re.split(': |\\n', str))"
   ]
  },
  {
   "cell_type": "code",
   "execution_count": 30,
   "metadata": {},
   "outputs": [],
   "source": [
    "def get_subject(response):\n",
    "    text = response.h2.text\n",
    "    text = (re.split(': |\\n', text))\n",
    "    if len(text) > 1:\n",
    "        return text[1]\n",
    "    return"
   ]
  },
  {
   "cell_type": "code",
   "execution_count": 31,
   "metadata": {},
   "outputs": [
    {
     "name": "stdout",
     "output_type": "stream",
     "text": [
      "File No. S7-08-20\n"
     ]
    }
   ],
   "source": [
    "print(get_subject(response))"
   ]
  },
  {
   "cell_type": "code",
   "execution_count": 32,
   "metadata": {},
   "outputs": [],
   "source": [
    "def get_from(response):\n",
    "    text = response.h2.text\n",
    "    text = (re.split(': |\\n', text))\n",
    "    if len(text) > 2:\n",
    "        return text[3]\n",
    "    return"
   ]
  },
  {
   "cell_type": "code",
   "execution_count": 33,
   "metadata": {},
   "outputs": [
    {
     "name": "stdout",
     "output_type": "stream",
     "text": [
      "Tyler Boshard\n"
     ]
    }
   ],
   "source": [
    "print(get_from(response))"
   ]
  },
  {
   "cell_type": "code",
   "execution_count": 34,
   "metadata": {},
   "outputs": [],
   "source": [
    "def get_affiliation(response):\n",
    "    text = response.h2.text\n",
    "    #print(text)\n",
    "    text = (re.split(': |\\n', text))\n",
    "    if len(text) > 5:\n",
    "        return text[5]\n",
    "    return"
   ]
  },
  {
   "cell_type": "code",
   "execution_count": 35,
   "metadata": {},
   "outputs": [
    {
     "name": "stdout",
     "output_type": "stream",
     "text": [
      "None\n"
     ]
    }
   ],
   "source": [
    "print(get_affiliation(response))"
   ]
  },
  {
   "cell_type": "code",
   "execution_count": 36,
   "metadata": {},
   "outputs": [
    {
     "data": {
      "text/plain": [
       "4"
      ]
     },
     "execution_count": 36,
     "metadata": {},
     "output_type": "execute_result"
    }
   ],
   "source": [
    "len(text)"
   ]
  },
  {
   "cell_type": "code",
   "execution_count": 37,
   "metadata": {},
   "outputs": [],
   "source": [
    "get_affiliation(response)"
   ]
  },
  {
   "cell_type": "code",
   "execution_count": 38,
   "metadata": {},
   "outputs": [],
   "source": [
    "def get_date(response):\n",
    "    try:\n",
    "        date = response.find(\"p\", class_= \"right\")\n",
    "        return date.text.replace('\\n', '')\n",
    "    except Exception:\n",
    "        pass\n",
    "\n",
    "\n",
    "    "
   ]
  },
  {
   "cell_type": "code",
   "execution_count": 39,
   "metadata": {},
   "outputs": [
    {
     "name": "stdout",
     "output_type": "stream",
     "text": [
      "July 16, 2020\n"
     ]
    }
   ],
   "source": [
    "print(get_date(response))"
   ]
  },
  {
   "cell_type": "code",
   "execution_count": 40,
   "metadata": {},
   "outputs": [],
   "source": [
    "def get_comment(response):\n",
    "    comment = response.select('p')[1].text\n",
    "    return comment"
   ]
  },
  {
   "cell_type": "code",
   "execution_count": 41,
   "metadata": {},
   "outputs": [
    {
     "name": "stdout",
     "output_type": "stream",
     "text": [
      "I find this proposal reduces critical transparency to a fair market and should be rejected for the good of the people. \n"
     ]
    }
   ],
   "source": [
    "print(get_comment(response))"
   ]
  },
  {
   "cell_type": "code",
   "execution_count": 95,
   "metadata": {},
   "outputs": [],
   "source": [
    "# this function for the getting inforamtion of the web page\n",
    "def get_paperinfo(paper_url):\n",
    "    try:\n",
    "        #download the page\n",
    "        response=requests.get(paper_url)\n",
    "        #response = BeautifulSoup(requests.get(url).text, 'lxml')\n",
    "\n",
    "        # check successful response\n",
    "        #if response.status_code != 200:\n",
    "            #print('Status code:', response.status_code)\n",
    "            #raise Exception('Failed to fetch web page ')\n",
    "\n",
    "        #parse using beautiful soup\n",
    "        paper_doc = BeautifulSoup(response.text, 'lxml')\n",
    "        return paper_doc\n",
    "    except Exception:\n",
    "        pass"
   ]
  },
  {
   "cell_type": "code",
   "execution_count": 94,
   "metadata": {},
   "outputs": [],
   "source": [
    "# creating final repository\n",
    "paper_repos_dict = {\n",
    "                    'Subject' : [],\n",
    "                    'From' : [],\n",
    "                    'Affiliation' : [],\n",
    "                    'Date': [],\n",
    "                    'Comment' : [] }\n",
    "\n",
    "# adding information in repository\n",
    "def add_in_paper_repo(subject,name,affiliation, date,comment):\n",
    "    paper_repos_dict['Subject'].append(subject)\n",
    "    paper_repos_dict['From'].append(name)\n",
    "    paper_repos_dict['Affiliation'].append(affiliation)\n",
    "    paper_repos_dict['Date'].append(date)\n",
    "    paper_repos_dict['Comment'].append(comment)\n",
    "\n",
    "    return pd.DataFrame(paper_repos_dict)"
   ]
  },
  {
   "cell_type": "code",
   "execution_count": 44,
   "metadata": {},
   "outputs": [
    {
     "name": "stdout",
     "output_type": "stream",
     "text": [
      "https://www.sec.gov/comments/s7-08-20/s70820-7506171-221974.htm\n",
      "https://www.sec.gov/comments/s7-08-20/s70820-7501963-221869.htm\n",
      "https://www.sec.gov/comments/s7-08-20/s70820-7432490-220017.htm\n",
      "https://www.sec.gov/comments/s7-08-20/s70820-7418324-219628.htm\n",
      "https://www.sec.gov/comments/s7-08-20/s70820-7422642-219795.htm\n",
      "https://www.sec.gov/comments/s7-08-20/s70820-220336.htm\n",
      "https://www.sec.gov/comments/s7-08-20/s70820-7434663-220450.htm\n",
      "https://www.sec.gov/comments/s7-08-20/s70820-219365.htm\n",
      "https://www.sec.gov/comments/s7-08-20/s70820-7440934-220915.htm\n",
      "https://www.sec.gov/comments/s7-08-20/s70820-7653469-222406.htm\n",
      "https://www.sec.gov/comments/s7-08-20/s70820-7464443-221197.htm\n",
      "https://www.sec.gov/comments/s7-08-20/s70820-7432340-219869.htm\n",
      "https://www.sec.gov/comments/s7-08-20/s70820-7435913-220783.htm\n",
      "https://www.sec.gov/comments/s7-08-20/s70820-219558.htm\n",
      "https://www.sec.gov/comments/s7-08-20/s70820-7418335-219636.htm\n",
      "https://www.sec.gov/comments/s7-08-20/s70820-7435575-220647.htm\n",
      "https://www.sec.gov/comments/s7-08-20/s70820-7415708-219426.htm\n",
      "https://www.sec.gov/comments/s7-08-20/s70820-7464359-221131.htm\n",
      "https://www.sec.gov/comments/s7-08-20/s70820-7488922-221614.htm\n",
      "https://www.sec.gov/comments/s7-08-20/s70820-7455214-221028.htm\n",
      "https://www.sec.gov/comments/s7-08-20/s70820-7488889-221582.htm\n",
      "https://www.sec.gov/comments/s7-08-20/s70820-220309.htm\n",
      "https://www.sec.gov/comments/s7-08-20/s70820-7432466-219995.htm\n",
      "https://www.sec.gov/comments/s7-08-20/s70820-223174.htm\n",
      "https://www.sec.gov/comments/s7-08-20/s70820-7506152-221959.htm\n",
      "https://www.sec.gov/comments/s7-08-20/s70820-7455245-221014.htm\n",
      "https://www.sec.gov/comments/s7-08-20/s70820-7893026-224252.htm\n",
      "https://www.sec.gov/comments/s7-08-20/s70820-7417077-219581.htm\n",
      "https://www.sec.gov/comments/s7-08-20/s70820-7434672-220443.htm\n",
      "https://www.sec.gov/comments/s7-08-20/s70820-7432463-219978.htm\n"
     ]
    }
   ],
   "source": [
    "select_df = htm.sample(30)\n",
    "for i in select_df['link']:\n",
    "    print(i)"
   ]
  },
  {
   "cell_type": "code",
   "execution_count": 97,
   "metadata": {},
   "outputs": [],
   "source": [
    "for i in htm['link']:\n",
    "    subjects = []\n",
    "    names = []\n",
    "    affliations = []\n",
    "    dates = []\n",
    "    comments = []\n",
    "    #print(i)\n",
    "    response = get_paperinfo(i)\n",
    "    subject = get_subject(response)\n",
    "    name = get_from(response)\n",
    "    affliation = get_affiliation(response)\n",
    "    date = get_date(response)\n",
    "    comment = get_comment(response)\n",
    "    #print(subject)\n",
    "    #print(name)\n",
    "    #print(subject)\n",
    "    #print(affliation)\n",
    "    subjects.append(subject)\n",
    "    names.append(name)\n",
    "    affliations.append(affliation)\n",
    "    dates.append(date)\n",
    "    comments.append(comment)\n",
    "    \n",
    "    final = add_in_paper_repo(subject,name,affliation,date,comment)"
   ]
  },
  {
   "cell_type": "code",
   "execution_count": 84,
   "metadata": {},
   "outputs": [
    {
     "data": {
      "text/html": [
       "<div>\n",
       "<style scoped>\n",
       "    .dataframe tbody tr th:only-of-type {\n",
       "        vertical-align: middle;\n",
       "    }\n",
       "\n",
       "    .dataframe tbody tr th {\n",
       "        vertical-align: top;\n",
       "    }\n",
       "\n",
       "    .dataframe thead th {\n",
       "        text-align: right;\n",
       "    }\n",
       "</style>\n",
       "<table border=\"1\" class=\"dataframe\">\n",
       "  <thead>\n",
       "    <tr style=\"text-align: right;\">\n",
       "      <th></th>\n",
       "      <th>Author</th>\n",
       "      <th>Creator</th>\n",
       "      <th>Producer</th>\n",
       "      <th>Creationdate</th>\n",
       "      <th>Title</th>\n",
       "      <th>Pages</th>\n",
       "    </tr>\n",
       "  </thead>\n",
       "  <tbody>\n",
       "    <tr>\n",
       "      <th>11</th>\n",
       "      <td>bmarx</td>\n",
       "      <td>PScript5.dll Version 5.2.2</td>\n",
       "      <td>Acrobat Distiller 11.0 (Windows)</td>\n",
       "      <td>D:20200929151053-04'00'</td>\n",
       "      <td>Microsoft Word - FBC 13F Comment Letter - FINA...</td>\n",
       "      <td>4</td>\n",
       "    </tr>\n",
       "    <tr>\n",
       "      <th>12</th>\n",
       "      <td>Cass Sanford</td>\n",
       "      <td>Acrobat PDFMaker 20 for Word</td>\n",
       "      <td>Adobe PDF Library 20.12.80</td>\n",
       "      <td>D:20200930175350-04'00'</td>\n",
       "      <td></td>\n",
       "      <td>3</td>\n",
       "    </tr>\n",
       "    <tr>\n",
       "      <th>13</th>\n",
       "      <td>Bess Gallanis</td>\n",
       "      <td>Microsoft Word</td>\n",
       "      <td>None</td>\n",
       "      <td>D:20200929202810+00'00'</td>\n",
       "      <td>None</td>\n",
       "      <td>2</td>\n",
       "    </tr>\n",
       "    <tr>\n",
       "      <th>14</th>\n",
       "      <td>None</td>\n",
       "      <td>RICOH MP C6004</td>\n",
       "      <td>RICOH MP C6004</td>\n",
       "      <td>D:20200929151355-05'00'</td>\n",
       "      <td>None</td>\n",
       "      <td>2</td>\n",
       "    </tr>\n",
       "    <tr>\n",
       "      <th>15</th>\n",
       "      <td>Anderson, Will</td>\n",
       "      <td>Microsoft® Word for Microsoft 365</td>\n",
       "      <td>Microsoft® Word for Microsoft 365</td>\n",
       "      <td>D:20200929125202-04'00'</td>\n",
       "      <td>b'\\n  '</td>\n",
       "      <td>4</td>\n",
       "    </tr>\n",
       "  </tbody>\n",
       "</table>\n",
       "</div>"
      ],
      "text/plain": [
       "            Author                            Creator  \\\n",
       "11           bmarx         PScript5.dll Version 5.2.2   \n",
       "12    Cass Sanford       Acrobat PDFMaker 20 for Word   \n",
       "13   Bess Gallanis                     Microsoft Word   \n",
       "14            None                     RICOH MP C6004   \n",
       "15  Anderson, Will  Microsoft® Word for Microsoft 365   \n",
       "\n",
       "                             Producer             Creationdate  \\\n",
       "11   Acrobat Distiller 11.0 (Windows)  D:20200929151053-04'00'   \n",
       "12         Adobe PDF Library 20.12.80  D:20200930175350-04'00'   \n",
       "13                               None  D:20200929202810+00'00'   \n",
       "14                     RICOH MP C6004  D:20200929151355-05'00'   \n",
       "15  Microsoft® Word for Microsoft 365  D:20200929125202-04'00'   \n",
       "\n",
       "                                                Title  Pages  \n",
       "11  Microsoft Word - FBC 13F Comment Letter - FINA...      4  \n",
       "12                                                         3  \n",
       "13                                               None      2  \n",
       "14                                               None      2  \n",
       "15                                            b'\\n  '      4  "
      ]
     },
     "execution_count": 84,
     "metadata": {},
     "output_type": "execute_result"
    }
   ],
   "source": [
    "final.tail()"
   ]
  },
  {
   "cell_type": "code",
   "execution_count": 50,
   "metadata": {
    "scrolled": true
   },
   "outputs": [],
   "source": [
    "final.to_csv('htm_comments.csv', index=False)"
   ]
  },
  {
   "cell_type": "code",
   "execution_count": 48,
   "metadata": {},
   "outputs": [
    {
     "data": {
      "text/html": [
       "<div>\n",
       "<style scoped>\n",
       "    .dataframe tbody tr th:only-of-type {\n",
       "        vertical-align: middle;\n",
       "    }\n",
       "\n",
       "    .dataframe tbody tr th {\n",
       "        vertical-align: top;\n",
       "    }\n",
       "\n",
       "    .dataframe thead th {\n",
       "        text-align: right;\n",
       "    }\n",
       "</style>\n",
       "<table border=\"1\" class=\"dataframe\">\n",
       "  <thead>\n",
       "    <tr style=\"text-align: right;\">\n",
       "      <th></th>\n",
       "      <th>Subject</th>\n",
       "      <th>From</th>\n",
       "      <th>Affiliation</th>\n",
       "      <th>Date</th>\n",
       "      <th>Comment</th>\n",
       "    </tr>\n",
       "  </thead>\n",
       "  <tbody>\n",
       "    <tr>\n",
       "      <th>1782</th>\n",
       "      <td>File No. S7-08-20</td>\n",
       "      <td>James Steiger, Steiger</td>\n",
       "      <td>None</td>\n",
       "      <td>July 23, 2020</td>\n",
       "      <td>To whom it may concern,</td>\n",
       "    </tr>\n",
       "    <tr>\n",
       "      <th>1783</th>\n",
       "      <td>File No. S7-08-20 From</td>\n",
       "      <td></td>\n",
       "      <td>None</td>\n",
       "      <td>Jul. 23, 2020</td>\n",
       "      <td></td>\n",
       "    </tr>\n",
       "    <tr>\n",
       "      <th>1784</th>\n",
       "      <td>File No. S7-08-20</td>\n",
       "      <td>Karel Minnaar</td>\n",
       "      <td>None</td>\n",
       "      <td>July 23, 2020</td>\n",
       "      <td>Do not approve S7-08-20. Increasing the report...</td>\n",
       "    </tr>\n",
       "    <tr>\n",
       "      <th>1785</th>\n",
       "      <td>File No. S7-08-20</td>\n",
       "      <td>Elad Schulman</td>\n",
       "      <td>None</td>\n",
       "      <td>July 23, 2020</td>\n",
       "      <td>This is a really bad proposal, as reducing the...</td>\n",
       "    </tr>\n",
       "    <tr>\n",
       "      <th>1786</th>\n",
       "      <td>File No. S7-08-20</td>\n",
       "      <td>Steven Smith</td>\n",
       "      <td>None</td>\n",
       "      <td>July 23, 2020</td>\n",
       "      <td>For transparency, and for shareholders to be k...</td>\n",
       "    </tr>\n",
       "  </tbody>\n",
       "</table>\n",
       "</div>"
      ],
      "text/plain": [
       "                     Subject                    From Affiliation  \\\n",
       "1782       File No. S7-08-20  James Steiger, Steiger        None   \n",
       "1783  File No. S7-08-20 From                                None   \n",
       "1784       File No. S7-08-20           Karel Minnaar        None   \n",
       "1785       File No. S7-08-20           Elad Schulman        None   \n",
       "1786       File No. S7-08-20            Steven Smith        None   \n",
       "\n",
       "               Date                                            Comment  \n",
       "1782  July 23, 2020                            To whom it may concern,  \n",
       "1783  Jul. 23, 2020                                                     \n",
       "1784  July 23, 2020  Do not approve S7-08-20. Increasing the report...  \n",
       "1785  July 23, 2020  This is a really bad proposal, as reducing the...  \n",
       "1786  July 23, 2020  For transparency, and for shareholders to be k...  "
      ]
     },
     "execution_count": 48,
     "metadata": {},
     "output_type": "execute_result"
    }
   ],
   "source": [
    "final.tail()"
   ]
  },
  {
   "cell_type": "markdown",
   "metadata": {},
   "source": [
    "## Scraping pdf links"
   ]
  },
  {
   "cell_type": "code",
   "execution_count": 51,
   "metadata": {},
   "outputs": [],
   "source": [
    "url1 = \"https://www.sec.gov/comments/s7-08-20/s70820-7843263-223772.pdf\"\n",
    "soup = BeautifulSoup(requests.get(url1).text, 'html.parser')"
   ]
  },
  {
   "cell_type": "code",
   "execution_count": 53,
   "metadata": {},
   "outputs": [],
   "source": [
    "import io\n",
    "from PyPDF2 import PdfFileReader"
   ]
  },
  {
   "cell_type": "code",
   "execution_count": 88,
   "metadata": {},
   "outputs": [],
   "source": [
    "def info(pdf_path):\n",
    "    try:\n",
    "        response = requests.get(pdf_path)\n",
    "        with io.BytesIO(response.content) as f:\n",
    "            pdf = PdfFileReader(f)\n",
    "            information = pdf.getDocumentInfo()\n",
    "            number_of_pages = pdf.getNumPages()\n",
    "        \n",
    "        return information, number_of_pages\n",
    "    # check successful response\n",
    "    #if response.status_code != 200:\n",
    "       # print('Status code:', response.status_code)\n",
    "       # raise Exception('Failed to fetch web page ')\n",
    "    except Exception:\n",
    "        pass"
   ]
  },
  {
   "cell_type": "code",
   "execution_count": 68,
   "metadata": {},
   "outputs": [
    {
     "data": {
      "text/html": [
       "<div>\n",
       "<style scoped>\n",
       "    .dataframe tbody tr th:only-of-type {\n",
       "        vertical-align: middle;\n",
       "    }\n",
       "\n",
       "    .dataframe tbody tr th {\n",
       "        vertical-align: top;\n",
       "    }\n",
       "\n",
       "    .dataframe thead th {\n",
       "        text-align: right;\n",
       "    }\n",
       "</style>\n",
       "<table border=\"1\" class=\"dataframe\">\n",
       "  <thead>\n",
       "    <tr style=\"text-align: right;\">\n",
       "      <th></th>\n",
       "      <th>link</th>\n",
       "      <th>name</th>\n",
       "    </tr>\n",
       "  </thead>\n",
       "  <tbody>\n",
       "    <tr>\n",
       "      <th>7</th>\n",
       "      <td>https://www.sec.gov/comments/s7-08-20/s70820-8...</td>\n",
       "      <td>David J. Smetana, Chief Financial Officer, Mac...</td>\n",
       "    </tr>\n",
       "    <tr>\n",
       "      <th>8</th>\n",
       "      <td>https://www.sec.gov/comments/s7-08-20/s70820-8...</td>\n",
       "      <td>Michael Stubblefield, President and Chief Exec...</td>\n",
       "    </tr>\n",
       "    <tr>\n",
       "      <th>17</th>\n",
       "      <td>https://www.sec.gov/comments/s7-08-20/s70820-7...</td>\n",
       "      <td>John S. Hess, Jr., EVP, Deputy General Counsel...</td>\n",
       "    </tr>\n",
       "    <tr>\n",
       "      <th>20</th>\n",
       "      <td>https://www.sec.gov/comments/s7-08-20/s70820-7...</td>\n",
       "      <td>Stephen Deane, Sr. Director, Capital Markets P...</td>\n",
       "    </tr>\n",
       "    <tr>\n",
       "      <th>22</th>\n",
       "      <td>https://www.sec.gov/comments/s7-08-20/s70820-7...</td>\n",
       "      <td>Lev Bagramian, Senior Securities Policy Adviso...</td>\n",
       "    </tr>\n",
       "  </tbody>\n",
       "</table>\n",
       "</div>"
      ],
      "text/plain": [
       "                                                 link  \\\n",
       "7   https://www.sec.gov/comments/s7-08-20/s70820-8...   \n",
       "8   https://www.sec.gov/comments/s7-08-20/s70820-8...   \n",
       "17  https://www.sec.gov/comments/s7-08-20/s70820-7...   \n",
       "20  https://www.sec.gov/comments/s7-08-20/s70820-7...   \n",
       "22  https://www.sec.gov/comments/s7-08-20/s70820-7...   \n",
       "\n",
       "                                                 name  \n",
       "7   David J. Smetana, Chief Financial Officer, Mac...  \n",
       "8   Michael Stubblefield, President and Chief Exec...  \n",
       "17  John S. Hess, Jr., EVP, Deputy General Counsel...  \n",
       "20  Stephen Deane, Sr. Director, Capital Markets P...  \n",
       "22  Lev Bagramian, Senior Securities Policy Adviso...  "
      ]
     },
     "execution_count": 68,
     "metadata": {},
     "output_type": "execute_result"
    }
   ],
   "source": [
    "sample_pdf = pdf.head()\n",
    "sample_pdf"
   ]
  },
  {
   "cell_type": "code",
   "execution_count": 58,
   "metadata": {},
   "outputs": [
    {
     "name": "stdout",
     "output_type": "stream",
     "text": [
      "(None, 12)\n",
      "({'/Producer': 'PFU PDF Library 1.3.1', '/Creator': 'PFU ScanSnap Manager 5.5.10 #S1500', '/CreationDate': \"D:20201119084718-05'00'\", '/ModDate': \"D:20201119084718-05'00'\", '/MetadataDate': \"D:20201119084718-05'00'\"}, 3)\n",
      "({'/Author': '', '/Company': '', '/ContentTypeId': '0x010100F5C15E9D5657E646BF4D4493249603DD', '/CreationDate': \"D:20201005180355-04'00'\", '/Creator': 'Acrobat PDFMaker 15 for Word', '/Keywords': '', '/ModDate': \"D:20201005180400-04'00'\", '/Producer': 'Adobe PDF Library 15.0', '/SourceModified': ''}, 7)\n",
      "({'/Author': 'Jim Allen', '/Creator': 'Microsoft® Word for Office 365', '/CreationDate': \"D:20201001073250-04'00'\", '/ModDate': \"D:20201001073250-04'00'\", '/Producer': 'Microsoft® Word for Office 365'}, 12)\n",
      "({'/Author': 'Daniel Wynn', '/CreationDate': \"D:20200930043332-04'00'\", '/Creator': 'Microsoft® Word for Microsoft 365', '/ModDate': \"D:20200930043431-04'00'\", '/Producer': 'Microsoft® Word for Microsoft 365'}, 8)\n"
     ]
    }
   ],
   "source": [
    "for i in sample_pdf['link']:\n",
    "    print(info(i))"
   ]
  },
  {
   "cell_type": "code",
   "execution_count": 59,
   "metadata": {},
   "outputs": [],
   "source": [
    "# creating final repository\n",
    "paper_repos_dict = {\n",
    "                    'Author' : [],\n",
    "                    'Creator' : [],\n",
    "                    'Producer' : [],\n",
    "                    'Creationdate': [],\n",
    "                    'Title': [],\n",
    "                    'Pages' : [] }\n",
    "\n",
    "# adding information in repository\n",
    "def add_in_paper_repo(author, creator ,producer, creation_date,title, pages):\n",
    "    paper_repos_dict['Author'].append(author)\n",
    "    paper_repos_dict['Creator'].append(creator)\n",
    "    paper_repos_dict['Producer'].append(producer)\n",
    "    paper_repos_dict['Creationdate'].append(creation_date)\n",
    "    paper_repos_dict['Title'].append(title)\n",
    "    paper_repos_dict['Pages'].append(pages)\n",
    "    \n",
    "\n",
    "    return pd.DataFrame(paper_repos_dict)"
   ]
  },
  {
   "cell_type": "code",
   "execution_count": 69,
   "metadata": {},
   "outputs": [
    {
     "name": "stdout",
     "output_type": "stream",
     "text": [
      "({'/Author': 'Ted Allen', '/Company': 'Novatel Wirelss, Inc.', '/CreationDate': \"D:20200918111657-04'00'\", '/Creator': 'Acrobat PDFMaker 20 for Word', '/ModDate': \"D:20200918130218-04'00'\", '/Producer': 'Adobe PDF Library 20.12.75', '/SourceModified': 'D:20200918151230', '/Title': ''}, 6)\n"
     ]
    }
   ],
   "source": [
    "url = \"https://www.sec.gov/comments/s7-08-20/s70820-7797961-223610.pdf\"\n",
    "\n",
    "pdf_info = info(url)\n",
    "print(pdf_info)"
   ]
  },
  {
   "cell_type": "code",
   "execution_count": 77,
   "metadata": {},
   "outputs": [],
   "source": [
    "pdf_data = pdf.copy()"
   ]
  },
  {
   "cell_type": "code",
   "execution_count": 89,
   "metadata": {},
   "outputs": [
    {
     "name": "stderr",
     "output_type": "stream",
     "text": [
      "PdfReadWarning: Xref table not zero-indexed. ID numbers for objects will be corrected. [pdf.py:1736]\n",
      "PdfReadWarning: Superfluous whitespace found in object header b'30' b'0' [pdf.py:1666]\n",
      "PdfReadWarning: Superfluous whitespace found in object header b'1' b'0' [pdf.py:1666]\n",
      "PdfReadWarning: Superfluous whitespace found in object header b'2' b'0' [pdf.py:1666]\n",
      "PdfReadWarning: Superfluous whitespace found in object header b'3' b'0' [pdf.py:1666]\n",
      "PdfReadWarning: Superfluous whitespace found in object header b'24' b'0' [pdf.py:1666]\n",
      "PdfReadWarning: Superfluous whitespace found in object header b'27' b'0' [pdf.py:1666]\n",
      "PdfReadWarning: Superfluous whitespace found in object header b'53' b'0' [pdf.py:1666]\n",
      "PdfReadWarning: Superfluous whitespace found in object header b'40' b'0' [pdf.py:1666]\n",
      "PdfReadWarning: Superfluous whitespace found in object header b'43' b'0' [pdf.py:1666]\n",
      "PdfReadWarning: Superfluous whitespace found in object header b'46' b'0' [pdf.py:1666]\n",
      "PdfReadWarning: Superfluous whitespace found in object header b'49' b'0' [pdf.py:1666]\n",
      "PdfReadWarning: Superfluous whitespace found in object header b'39' b'0' [pdf.py:1666]\n",
      "PdfReadWarning: Superfluous whitespace found in object header b'42' b'0' [pdf.py:1666]\n",
      "PdfReadWarning: Superfluous whitespace found in object header b'50' b'0' [pdf.py:1666]\n",
      "PdfReadWarning: Superfluous whitespace found in object header b'38' b'0' [pdf.py:1666]\n",
      "PdfReadWarning: Superfluous whitespace found in object header b'66' b'0' [pdf.py:1666]\n",
      "PdfReadWarning: Superfluous whitespace found in object header b'47' b'0' [pdf.py:1666]\n",
      "PdfReadWarning: Superfluous whitespace found in object header b'56' b'0' [pdf.py:1666]\n",
      "PdfReadWarning: Superfluous whitespace found in object header b'59' b'0' [pdf.py:1666]\n",
      "PdfReadWarning: Superfluous whitespace found in object header b'62' b'0' [pdf.py:1666]\n",
      "PdfReadWarning: Superfluous whitespace found in object header b'68' b'0' [pdf.py:1666]\n",
      "PdfReadWarning: Superfluous whitespace found in object header b'64' b'0' [pdf.py:1666]\n",
      "PdfReadWarning: Superfluous whitespace found in object header b'23' b'0' [pdf.py:1666]\n",
      "PdfReadWarning: Superfluous whitespace found in object header b'52' b'0' [pdf.py:1666]\n",
      "PdfReadWarning: Superfluous whitespace found in object header b'48' b'0' [pdf.py:1666]\n",
      "PdfReadWarning: Superfluous whitespace found in object header b'31' b'0' [pdf.py:1666]\n",
      "PdfReadWarning: Superfluous whitespace found in object header b'45' b'0' [pdf.py:1666]\n",
      "PdfReadWarning: Superfluous whitespace found in object header b'33' b'0' [pdf.py:1666]\n"
     ]
    }
   ],
   "source": [
    "for i in pdf_data['link']:\n",
    "    pdf = info(i)\n",
    "    try:\n",
    "        if '/Author' in pdf[0]:\n",
    "            author = pdf[0]['/Author']\n",
    "        else:\n",
    "            author = None\n",
    "        if '/Creator' in pdf[0]:\n",
    "            creator = pdf[0]['/Creator']\n",
    "        else:\n",
    "            creator = None\n",
    "        if '/Producer' in pdf[0]:\n",
    "            producer = pdf[0]['/Producer']\n",
    "        else:\n",
    "            producer = None\n",
    "        if '/CreationDate' in pdf[0]:\n",
    "            creation_date = pdf[0]['/CreationDate']\n",
    "        else:\n",
    "            creation_date = None\n",
    "        if '/Title' in pdf[0]:\n",
    "            title = pdf[0]['/Title']\n",
    "        else:\n",
    "            title =None\n",
    "        pages = pdf[1]\n",
    "        \n",
    "        pdf_final = add_in_paper_repo(author, creator, producer, creation_date,title, pages)\n",
    "    except Exception:\n",
    "        pass"
   ]
  },
  {
   "cell_type": "code",
   "execution_count": 90,
   "metadata": {},
   "outputs": [
    {
     "data": {
      "text/html": [
       "<div>\n",
       "<style scoped>\n",
       "    .dataframe tbody tr th:only-of-type {\n",
       "        vertical-align: middle;\n",
       "    }\n",
       "\n",
       "    .dataframe tbody tr th {\n",
       "        vertical-align: top;\n",
       "    }\n",
       "\n",
       "    .dataframe thead th {\n",
       "        text-align: right;\n",
       "    }\n",
       "</style>\n",
       "<table border=\"1\" class=\"dataframe\">\n",
       "  <thead>\n",
       "    <tr style=\"text-align: right;\">\n",
       "      <th></th>\n",
       "      <th>Author</th>\n",
       "      <th>Creator</th>\n",
       "      <th>Producer</th>\n",
       "      <th>Creationdate</th>\n",
       "      <th>Title</th>\n",
       "      <th>Pages</th>\n",
       "    </tr>\n",
       "  </thead>\n",
       "  <tbody>\n",
       "    <tr>\n",
       "      <th>289</th>\n",
       "      <td>None</td>\n",
       "      <td>PScript5.dll Version 5.2.2</td>\n",
       "      <td>Acrobat Distiller 20.0 (Windows)</td>\n",
       "      <td>D:20200914154857-04'00'</td>\n",
       "      <td></td>\n",
       "      <td>1</td>\n",
       "    </tr>\n",
       "    <tr>\n",
       "      <th>290</th>\n",
       "      <td>None</td>\n",
       "      <td>PScript5.dll Version 5.2.2</td>\n",
       "      <td>Acrobat Distiller 20.0 (Windows)</td>\n",
       "      <td>D:20200825111156-04'00'</td>\n",
       "      <td></td>\n",
       "      <td>1</td>\n",
       "    </tr>\n",
       "    <tr>\n",
       "      <th>291</th>\n",
       "      <td>None</td>\n",
       "      <td>Acrobat PDFMaker 20 for Word</td>\n",
       "      <td>Adobe PDF Library 20.9.95</td>\n",
       "      <td>D:20200821110903-04'00'</td>\n",
       "      <td></td>\n",
       "      <td>1</td>\n",
       "    </tr>\n",
       "    <tr>\n",
       "      <th>292</th>\n",
       "      <td>None</td>\n",
       "      <td>Acrobat PDFMaker 20 for Word</td>\n",
       "      <td>Adobe PDF Library 20.9.95</td>\n",
       "      <td>D:20200821110903-04'00'</td>\n",
       "      <td></td>\n",
       "      <td>1</td>\n",
       "    </tr>\n",
       "    <tr>\n",
       "      <th>293</th>\n",
       "      <td>us</td>\n",
       "      <td>Acrobat PDFMaker 20 for Word</td>\n",
       "      <td>Adobe PDF Library 20.9.95</td>\n",
       "      <td>D:20200723160414-04'00'</td>\n",
       "      <td>MEMORANDUM</td>\n",
       "      <td>2</td>\n",
       "    </tr>\n",
       "  </tbody>\n",
       "</table>\n",
       "</div>"
      ],
      "text/plain": [
       "    Author                       Creator                          Producer  \\\n",
       "289   None    PScript5.dll Version 5.2.2  Acrobat Distiller 20.0 (Windows)   \n",
       "290   None    PScript5.dll Version 5.2.2  Acrobat Distiller 20.0 (Windows)   \n",
       "291   None  Acrobat PDFMaker 20 for Word         Adobe PDF Library 20.9.95   \n",
       "292   None  Acrobat PDFMaker 20 for Word         Adobe PDF Library 20.9.95   \n",
       "293     us  Acrobat PDFMaker 20 for Word         Adobe PDF Library 20.9.95   \n",
       "\n",
       "                Creationdate       Title  Pages  \n",
       "289  D:20200914154857-04'00'                  1  \n",
       "290  D:20200825111156-04'00'                  1  \n",
       "291  D:20200821110903-04'00'                  1  \n",
       "292  D:20200821110903-04'00'                  1  \n",
       "293  D:20200723160414-04'00'  MEMORANDUM      2  "
      ]
     },
     "execution_count": 90,
     "metadata": {},
     "output_type": "execute_result"
    }
   ],
   "source": [
    "pdf_final.tail()"
   ]
  },
  {
   "cell_type": "code",
   "execution_count": 91,
   "metadata": {},
   "outputs": [],
   "source": [
    "pdf_final.to_csv('pdf_scrap.csv', index=False)"
   ]
  },
  {
   "cell_type": "code",
   "execution_count": null,
   "metadata": {},
   "outputs": [],
   "source": []
  }
 ],
 "metadata": {
  "kernelspec": {
   "display_name": "Python 3 (ipykernel)",
   "language": "python",
   "name": "python3"
  },
  "language_info": {
   "codemirror_mode": {
    "name": "ipython",
    "version": 3
   },
   "file_extension": ".py",
   "mimetype": "text/x-python",
   "name": "python",
   "nbconvert_exporter": "python",
   "pygments_lexer": "ipython3",
   "version": "3.7.4"
  }
 },
 "nbformat": 4,
 "nbformat_minor": 4
}
